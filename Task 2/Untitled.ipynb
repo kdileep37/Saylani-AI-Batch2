{
 "cells": [
  {
   "cell_type": "code",
   "execution_count": 6,
   "metadata": {},
   "outputs": [],
   "source": [
    "import numpy as np\n",
    "from PIL import Image\n",
    "\n",
    "img=Image.open('image1.jpg','r')\n",
    "img=img.convert('L') #makes it greyscale\n",
    "y=np.asarray(img.getdata(),dtype=np.float64).reshape((img.size[1],img.size[0]))\n",
    "\n",
    "\n",
    "\n",
    "y=np.asarray(y,dtype=np.uint8) #if values still in range 0-255! \n",
    "w=Image.fromarray(y,mode='L')\n",
    "w.save('out.jpg')\n",
    "w.show()"
   ]
  },
  {
   "cell_type": "code",
   "execution_count": null,
   "metadata": {},
   "outputs": [],
   "source": []
  }
 ],
 "metadata": {
  "kernelspec": {
   "display_name": "Python 3",
   "language": "python",
   "name": "python3"
  },
  "language_info": {
   "codemirror_mode": {
    "name": "ipython",
    "version": 3
   },
   "file_extension": ".py",
   "mimetype": "text/x-python",
   "name": "python",
   "nbconvert_exporter": "python",
   "pygments_lexer": "ipython3",
   "version": "3.8.5"
  }
 },
 "nbformat": 4,
 "nbformat_minor": 4
}
